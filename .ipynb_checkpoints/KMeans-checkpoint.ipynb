{
 "cells": [
  {
   "cell_type": "code",
   "execution_count": 2,
   "id": "79088bac",
   "metadata": {},
   "outputs": [],
   "source": [
    "def random_sample(low , high):\n",
    "    return low + (high - low) * random.random()"
   ]
  },
  {
   "cell_type": "code",
   "execution_count": null,
   "id": "8d9c7afd",
   "metadata": {},
   "outputs": [],
   "source": [
    "def initialize_centroids(data,k): \n",
    "     for point in data : \n",
    "        x_min = min(point[0] , x_min)\n",
    "        x_max = max(point[0],x_max)\n",
    "        \n",
    "        y_min = min(point[1] , y_min)\n",
    "        y_max = max(point[1] , y_max)\n",
    "        \n",
    "    centroids = []\n",
    "    for i in range(k):\n",
    "        centroids.append( [ random_sample(x_min, x_max) , \n",
    "                              random_sample(y_min,y_max)])\n",
    "    return centroids\n",
    "    "
   ]
  },
  {
   "cell_type": "code",
   "execution_count": null,
   "id": "94f9634b",
   "metadata": {},
   "outputs": [],
   "source": [
    "def get_distance(point_1 , point_2):\n",
    "    return ((point_1[0] - point_2[0]) **2 + \n",
    "           (point_1[1] - point_2[1]) ** 2 ) ** "
   ]
  },
  {
   "cell_type": "code",
   "execution_count": null,
   "id": "66c665c4",
   "metadata": {},
   "outputs": [],
   "source": [
    "def get_labels(data , centroids):\n",
    "    labels = []\n",
    "    \n",
    "    for point in data:\n",
    "        min_dist = float('inf')\n",
    "        label = None \n",
    "        \n",
    "        for i , centroid in enumerate(centroids):\n",
    "            new_dist = get_distance(point , centroids) \n",
    "            if min_dist > new_dist : \n",
    "                min_dist = new_dist\n",
    "                label = i\n",
    "        labels.append(label)\n",
    "    return labels"
   ]
  },
  {
   "cell_type": "code",
   "execution_count": 1,
   "id": "8dc438f7",
   "metadata": {},
   "outputs": [],
   "source": [
    "def main(data , k ): \n",
    "    \n",
    "    xmin = ymin = float(inf)\n",
    "    xmax = ymax = float(-inf)\n",
    "    \n",
    "   \n",
    "    return labels "
   ]
  },
  {
   "cell_type": "code",
   "execution_count": null,
   "id": "cc7f0b0b",
   "metadata": {},
   "outputs": [],
   "source": []
  }
 ],
 "metadata": {
  "kernelspec": {
   "display_name": "Python 3 (ipykernel)",
   "language": "python",
   "name": "python3"
  },
  "language_info": {
   "codemirror_mode": {
    "name": "ipython",
    "version": 3
   },
   "file_extension": ".py",
   "mimetype": "text/x-python",
   "name": "python",
   "nbconvert_exporter": "python",
   "pygments_lexer": "ipython3",
   "version": "3.9.12"
  }
 },
 "nbformat": 4,
 "nbformat_minor": 5
}
