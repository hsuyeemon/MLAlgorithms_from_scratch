{
 "cells": [
  {
   "cell_type": "code",
   "execution_count": 43,
   "id": "d481804e",
   "metadata": {},
   "outputs": [],
   "source": [
    "import random"
   ]
  },
  {
   "cell_type": "code",
   "execution_count": 44,
   "id": "79088bac",
   "metadata": {},
   "outputs": [],
   "source": [
    "def random_sample(low , high):\n",
    "    return low + (high - low) * random.random()"
   ]
  },
  {
   "cell_type": "code",
   "execution_count": 45,
   "id": "8d9c7afd",
   "metadata": {},
   "outputs": [],
   "source": [
    "def initialize_centroids(data,k): \n",
    "    \n",
    "    x_min = y_min = float('inf')\n",
    "    x_max = y_max = float('-inf')\n",
    "    for point in data : \n",
    "        x_min = min(point[0] , x_min)\n",
    "        x_max = max(point[0],x_max)\n",
    "        y_min = min(point[1] , y_min)\n",
    "        y_max = max(point[1] , y_max)\n",
    "    centroids = []\n",
    "    for i in range(k):\n",
    "        centroids.append( [ random_sample(x_min, x_max) , \n",
    "                              random_sample(y_min,y_max)])\n",
    "    return centroids\n",
    "    "
   ]
  },
  {
   "cell_type": "code",
   "execution_count": 46,
   "id": "66dabf59",
   "metadata": {},
   "outputs": [],
   "source": [
    "def get_distance(point_1 , point_2):\n",
    "    return ((point_1[0] - point_2[0]) **2 + \n",
    "           (point_1[1] - point_2[1]) ** 2 ) ** 0.5"
   ]
  },
  {
   "cell_type": "code",
   "execution_count": 53,
   "id": "66c665c4",
   "metadata": {},
   "outputs": [],
   "source": [
    "def get_labels(data , centroids):\n",
    "    labels = []\n",
    "    \n",
    "    for point in data:\n",
    "        min_dist = float('inf')\n",
    "        label = None \n",
    "        \n",
    "        for i , centroid in enumerate(centroids):\n",
    "            new_dist = get_distance(point , centroid) \n",
    "            if min_dist > new_dist : \n",
    "                min_dist = new_dist\n",
    "                label = i\n",
    "        labels.append(label)\n",
    "    return labels"
   ]
  },
  {
   "cell_type": "code",
   "execution_count": 54,
   "id": "03284086",
   "metadata": {},
   "outputs": [],
   "source": [
    "def update_centroids(points , labels , k):\n",
    "    \n",
    "    new_centroids = [ [0,0] for k in range(k)]\n",
    "    counts = [0] * k \n",
    "    \n",
    "    for point , label in zip(points,labels):\n",
    "        new_centroids[label][0] += point[0]\n",
    "        new_centroids[label][1] += point[1]\n",
    "        counts[label] += 1 \n",
    "        \n",
    "    for i , (x,y) in enumerate(new_centroids):\n",
    "        new_centroids[i] = ( x / counts[i] , y / counts[i])\n",
    "        \n",
    "    return new_centroids \n",
    "    "
   ]
  },
  {
   "cell_type": "code",
   "execution_count": 55,
   "id": "bcd91099",
   "metadata": {},
   "outputs": [],
   "source": [
    "def should_stop(old_centroids, new_centroids , threshold=1e-5):\n",
    "    total_movement = 0 \n",
    "    for old_point, new_point in zip(old_centroids , new_centroids):\n",
    "        total_movement += get_distance(old_point , new_point)\n",
    "        \n",
    "    return total_movement < threshold"
   ]
  },
  {
   "cell_type": "code",
   "execution_count": 58,
   "id": "8dc438f7",
   "metadata": {},
   "outputs": [],
   "source": [
    "def main(data , k ): \n",
    "    \n",
    "    centroids = initialize_centroids(data , k )\n",
    "    \n",
    "    while True : \n",
    "        old_centroid = centroids\n",
    "        labels = get_labels(data , centroids)\n",
    "        centroids = update_centroids(data , labels , k )\n",
    "        \n",
    "        if should_stop(old_centroid , centroids):\n",
    "            break\n",
    "    \n",
    "    return labels "
   ]
  },
  {
   "cell_type": "code",
   "execution_count": 59,
   "id": "cc7f0b0b",
   "metadata": {},
   "outputs": [
    {
     "data": {
      "text/plain": [
       "[1, 1, 0, 1]"
      ]
     },
     "execution_count": 59,
     "metadata": {},
     "output_type": "execute_result"
    }
   ],
   "source": [
    "test = [(1,0) , (0,1) , (10,1) , (1,3)]\n",
    "\n",
    "main(test , 2)"
   ]
  },
  {
   "cell_type": "markdown",
   "id": "894a9e24",
   "metadata": {},
   "source": [
    "Complexity Summary\n",
    "\n",
    "Time complexity : O(K*N*I) <br>\n",
    "K : # of clusters <br>\n",
    "N : # of data points <br>\n",
    "I : # of iterations <br><br>\n",
    "\n",
    "Space complexity : O(N) "
   ]
  },
  {
   "cell_type": "code",
   "execution_count": null,
   "id": "c79fc30b",
   "metadata": {},
   "outputs": [],
   "source": []
  }
 ],
 "metadata": {
  "kernelspec": {
   "display_name": "Python 3 (ipykernel)",
   "language": "python",
   "name": "python3"
  },
  "language_info": {
   "codemirror_mode": {
    "name": "ipython",
    "version": 3
   },
   "file_extension": ".py",
   "mimetype": "text/x-python",
   "name": "python",
   "nbconvert_exporter": "python",
   "pygments_lexer": "ipython3",
   "version": "3.9.12"
  }
 },
 "nbformat": 4,
 "nbformat_minor": 5
}
